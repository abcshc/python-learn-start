{
  "nbformat": 4,
  "nbformat_minor": 0,
  "metadata": {
    "colab": {
      "name": "소희철.ipynb",
      "version": "0.3.2",
      "provenance": [],
      "collapsed_sections": [],
      "include_colab_link": true
    },
    "kernelspec": {
      "name": "python3",
      "display_name": "Python 3"
    }
  },
  "cells": [
    {
      "cell_type": "markdown",
      "metadata": {
        "id": "view-in-github",
        "colab_type": "text"
      },
      "source": [
        "<a href=\"https://colab.research.google.com/github/abcshc/python-learn-start/blob/master/%EC%86%8C%ED%9D%AC%EC%B2%A0.ipynb\" target=\"_parent\"><img src=\"https://colab.research.google.com/assets/colab-badge.svg\" alt=\"Open In Colab\"/></a>"
      ]
    },
    {
      "cell_type": "markdown",
      "metadata": {
        "id": "kh25FpwoPjX_",
        "colab_type": "text"
      },
      "source": [
        "# 리스트"
      ]
    },
    {
      "cell_type": "markdown",
      "metadata": {
        "id": "7iAPTs5YPtT8",
        "colab_type": "text"
      },
      "source": [
        "## 리스트란?\n",
        "리스트는 여러 값을 담을 수 있는 변수입니다."
      ]
    },
    {
      "cell_type": "markdown",
      "metadata": {
        "id": "mfi5V_vxP9iH",
        "colab_type": "text"
      },
      "source": [
        "\n",
        "### 1. 리스트 만들기\n",
        "방법은 2가지\n",
        "\n",
        "#### 방법 1\n"
      ]
    },
    {
      "cell_type": "code",
      "metadata": {
        "id": "ftCKUEYoQRA6",
        "colab_type": "code",
        "outputId": "71b09839-3956-41de-f372-3c6264b8865d",
        "colab": {
          "base_uri": "https://localhost:8080/",
          "height": 85
        }
      },
      "source": [
        "# list1 이라는 빈 리스트를 만들어 보겠습니다.\n",
        "list1 = [1, 2]\n",
        "print(list1)\n",
        "list2 = [1, '철수', True]\n",
        "print(list2)\n",
        "list3 = list()\n",
        "print(list3)\n",
        "list4 = list([1, '철수', True])\n",
        "print(list4)\n"
      ],
      "execution_count": 0,
      "outputs": [
        {
          "output_type": "stream",
          "text": [
            "[1, 2]\n",
            "[1, '철수', True]\n",
            "[]\n",
            "[1, '철수', True]\n"
          ],
          "name": "stdout"
        }
      ]
    },
    {
      "cell_type": "code",
      "metadata": {
        "id": "IVIsofgKUjwM",
        "colab_type": "code",
        "colab": {}
      },
      "source": [
        ""
      ],
      "execution_count": 0,
      "outputs": []
    },
    {
      "cell_type": "code",
      "metadata": {
        "id": "jm38Nuz2RE4b",
        "colab_type": "code",
        "colab": {}
      },
      "source": [
        ""
      ],
      "execution_count": 0,
      "outputs": []
    },
    {
      "cell_type": "code",
      "metadata": {
        "id": "wjmBkGllQxtW",
        "colab_type": "code",
        "colab": {}
      },
      "source": [
        ""
      ],
      "execution_count": 0,
      "outputs": []
    }
  ]
}